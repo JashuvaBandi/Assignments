{
 "cells": [
  {
   "cell_type": "code",
   "execution_count": 2,
   "metadata": {},
   "outputs": [],
   "source": [
    "import numpy as np\n",
    "import pandas as pd\n",
    "import scipy.stats as st\n"
   ]
  },
  {
   "cell_type": "markdown",
   "metadata": {},
   "source": [
    "# Problem Statement 1: Is gender independent of education level? A random sample of 395 people were surveyed and each person was asked to report the highest education level they obtained. The data that resulted from the survey is summarized in the following table: High School Bachelors Masters Ph.d. Total Female 60 54 46 41 201 Male 40 44 53 57 194 Total 100 98 99 98 395 Question: Are gender and education level dependent at 5% level of significance? In other words, given the data collected above, is there a relationship between the gender of an individual and the level of education that they have obtained?Null Hypothesis H0 : Gender and education level are independent. Alternative Hypothesis H1 : Gender and education level are dependent."
   ]
  },
  {
   "cell_type": "code",
   "execution_count": 8,
   "metadata": {},
   "outputs": [
    {
     "name": "stdout",
     "output_type": "stream",
     "text": [
      "Null Hypothesis is rejected(Gender and education level are dependent.)\n"
     ]
    }
   ],
   "source": [
    "\n",
    "alpha=0.05\n",
    "chi2,p,dof,expected=st.chi2_contingency([[60,54,46,41],[40,44,53,57]])\n",
    "df=pd.DataFrame(np.array([[60,54,46,41],expected[0],[40,44,53,57],expected[1]]),columns=['High School','Bachelors','Masters','Ph.d'],index=['Female','Exp_Female','Male','Exp_male'])\n",
    "if p<alpha:\n",
    "    print(\"Null Hypothesis is rejected(Gender and education level are dependent.)\")\n",
    "else:\n",
    "    print('Null Hypothesis is accepted(Gender and education level are independent.)')"
   ]
  },
  {
   "cell_type": "code",
   "execution_count": 9,
   "metadata": {},
   "outputs": [
    {
     "data": {
      "text/html": [
       "<div>\n",
       "<style scoped>\n",
       "    .dataframe tbody tr th:only-of-type {\n",
       "        vertical-align: middle;\n",
       "    }\n",
       "\n",
       "    .dataframe tbody tr th {\n",
       "        vertical-align: top;\n",
       "    }\n",
       "\n",
       "    .dataframe thead th {\n",
       "        text-align: right;\n",
       "    }\n",
       "</style>\n",
       "<table border=\"1\" class=\"dataframe\">\n",
       "  <thead>\n",
       "    <tr style=\"text-align: right;\">\n",
       "      <th></th>\n",
       "      <th>High School</th>\n",
       "      <th>Bachelors</th>\n",
       "      <th>Masters</th>\n",
       "      <th>Ph.d</th>\n",
       "    </tr>\n",
       "  </thead>\n",
       "  <tbody>\n",
       "    <tr>\n",
       "      <th>Female</th>\n",
       "      <td>60.000000</td>\n",
       "      <td>54.000000</td>\n",
       "      <td>46.000000</td>\n",
       "      <td>41.000000</td>\n",
       "    </tr>\n",
       "    <tr>\n",
       "      <th>Exp_Female</th>\n",
       "      <td>50.886076</td>\n",
       "      <td>49.868354</td>\n",
       "      <td>50.377215</td>\n",
       "      <td>49.868354</td>\n",
       "    </tr>\n",
       "    <tr>\n",
       "      <th>Male</th>\n",
       "      <td>40.000000</td>\n",
       "      <td>44.000000</td>\n",
       "      <td>53.000000</td>\n",
       "      <td>57.000000</td>\n",
       "    </tr>\n",
       "    <tr>\n",
       "      <th>Exp_male</th>\n",
       "      <td>49.113924</td>\n",
       "      <td>48.131646</td>\n",
       "      <td>48.622785</td>\n",
       "      <td>48.131646</td>\n",
       "    </tr>\n",
       "  </tbody>\n",
       "</table>\n",
       "</div>"
      ],
      "text/plain": [
       "            High School  Bachelors    Masters       Ph.d\n",
       "Female        60.000000  54.000000  46.000000  41.000000\n",
       "Exp_Female    50.886076  49.868354  50.377215  49.868354\n",
       "Male          40.000000  44.000000  53.000000  57.000000\n",
       "Exp_male      49.113924  48.131646  48.622785  48.131646"
      ]
     },
     "execution_count": 9,
     "metadata": {},
     "output_type": "execute_result"
    }
   ],
   "source": [
    "df"
   ]
  },
  {
   "cell_type": "markdown",
   "metadata": {},
   "source": [
    "# Problem Statement 3: Calculate F Test for given 10, 20, 30, 40, 50 and 5,10,15, 20, 25"
   ]
  },
  {
   "cell_type": "code",
   "execution_count": 10,
   "metadata": {},
   "outputs": [
    {
     "name": "stdout",
     "output_type": "stream",
     "text": [
      "F-value is : 3.6\n",
      "p-value is : 0.0943497728424377\n"
     ]
    }
   ],
   "source": [
    "s1=[10,20,30,40,50]\n",
    "s2=[5,10,15,20,25]\n",
    "f,p=st.f_oneway(s1,s2)\n",
    "print(\"F-value is :\",f)\n",
    "print(\"p-value is :\",p)"
   ]
  },
  {
   "cell_type": "code",
   "execution_count": null,
   "metadata": {},
   "outputs": [],
   "source": []
  }
 ],
 "metadata": {
  "kernelspec": {
   "display_name": "Python 3",
   "language": "python",
   "name": "python3"
  },
  "language_info": {
   "codemirror_mode": {
    "name": "ipython",
    "version": 3
   },
   "file_extension": ".py",
   "mimetype": "text/x-python",
   "name": "python",
   "nbconvert_exporter": "python",
   "pygments_lexer": "ipython3",
   "version": "3.8.3"
  }
 },
 "nbformat": 4,
 "nbformat_minor": 4
}
