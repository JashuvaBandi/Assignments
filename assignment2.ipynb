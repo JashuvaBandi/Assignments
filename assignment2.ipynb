{
 "cells": [
  {
   "cell_type": "code",
   "execution_count": 82,
   "metadata": {},
   "outputs": [],
   "source": [
    "# Write a Python Program to implement your own myreduce() function which works exactlylike Python's built-in function reduce()\n",
    "def myreduce(numbers,l):\n",
    "    numbers = int(input(\"Enter range number:\"))\n",
    "    l=list(x for x in range(numbers))\n",
    "    print(l)\n",
    "    sum_of_list=0\n",
    "    for b in l:\n",
    "        sum_of_list+=b\n",
    "        \n",
    "    return sum_of_list"
   ]
  },
  {
   "cell_type": "code",
   "execution_count": 81,
   "metadata": {},
   "outputs": [
    {
     "name": "stdout",
     "output_type": "stream",
     "text": [
      "Enter range number:20\n",
      "[0, 1, 2, 3, 4, 5, 6, 7, 8, 9, 10, 11, 12, 13, 14, 15, 16, 17, 18, 19]\n"
     ]
    },
    {
     "data": {
      "text/plain": [
       "190"
      ]
     },
     "execution_count": 81,
     "metadata": {},
     "output_type": "execute_result"
    }
   ],
   "source": [
    "myreduce(numbers,b)"
   ]
  },
  {
   "cell_type": "code",
   "execution_count": 117,
   "metadata": {},
   "outputs": [],
   "source": [
    "#1.2 Write a Python program to implement your own myfilter() function which works exactlylike Python's built-in function filter()\n",
    "\n",
    "    "
   ]
  },
  {
   "cell_type": "code",
   "execution_count": 118,
   "metadata": {},
   "outputs": [
    {
     "name": "stdout",
     "output_type": "stream",
     "text": [
      "Input:\n",
      "Please insert the number: 30\n",
      "List of Even numbers: [2, 4, 6, 8, 10, 12, 14, 16, 18, 20, 22, 24, 26, 28, 30]\n",
      "List of Odd numbers: [1, 3, 5, 7, 9, 11, 13, 15, 17, 19, 21, 23, 25, 27, 29]\n"
     ]
    }
   ],
   "source": [
    "print(\"Input:\")\n",
    "number=int(input(\"Please insert the number: \"))\n",
    "\n",
    "num_list=list(range(1,number+1))\n",
    "\n",
    "\n",
    "def myfilter(num_list):\n",
    "   \n",
    "    num_even_list=[]\n",
    "    num_odd_list=[]\n",
    "    \n",
    "    for i in num_list:\n",
    "        if(i%2==0):\n",
    "                num_even_list.append(i)\n",
    "        elif(i%2!=0):\n",
    "                num_odd_list.append(i)\n",
    "                \n",
    "    return num_even_list,num_odd_list\n",
    "output_value=myfilter(num_list)\n",
    "\n",
    "print(\"List of Even numbers:\",output_value[0])\n",
    "print(\"List of Odd numbers:\",output_value[1])"
   ]
  },
  {
   "cell_type": "markdown",
   "metadata": {},
   "source": [
    "# Implement List comprehensions to produce the following lists. Write List comprehensions to produce the following Lists\n",
    "['A', 'C', 'A', 'D', 'G', 'I', ’L’, ‘ D’]['x', 'xx', 'xxx', 'xxxx', 'y', 'yy', 'yyy', 'yyyy', 'z', 'zz', 'zzz', 'zzzz'] ['x', 'y', 'z', 'xx', 'yy', 'zz', 'xx', 'yy', 'zz', 'xxxx', 'yyyy', 'zzzz'] [[2], [3], [4], [3], [4], [5], [4], [5], [6]] [[2, 3, 4, 5], [3, 4, 5, 6], [4, 5, 6, 7], [5, 6, 7, 8]]\n",
    "[(1, 1), (2, 1), (3, 1), (1, 2), (2, 2),(3,2), (1, 3), (2, 3), (3, 3)]"
   ]
  },
  {
   "cell_type": "code",
   "execution_count": null,
   "metadata": {},
   "outputs": [],
   "source": []
  },
  {
   "cell_type": "code",
   "execution_count": 130,
   "metadata": {},
   "outputs": [
    {
     "name": "stdout",
     "output_type": "stream",
     "text": [
      "Output:\n",
      "['A', 'C', 'A', 'D', 'G', 'I', 'L', 'D']\n",
      "['x', 'xx', 'xxx', 'xxxx', 'y', 'yy', 'yyy', 'yyyy', 'z', 'zz', 'zzz', 'zzzz']\n",
      "['x', 'y', 'z', 'xx', 'yy', 'zz', 'xxx', 'yyy', 'zzz', 'xxxx', 'yyyy', 'zzzz']\n",
      "[[2], [3], [4], [3], [4], [5], [4], [5], [6]]\n",
      "[[2, 3, 4, 5], [3, 4, 5, 6], [4, 5, 6, 7], [5, 6, 7, 8]]\n",
      "[(1, 1), (2, 1), (3, 1), (1, 2), (2, 2), (3, 2), (1, 3), (2, 3), (3, 3)]\n"
     ]
    }
   ],
   "source": [
    "#Section 1\n",
    "word=\"AcadGild\"\n",
    "#list Comprehension\n",
    "output_list=[w.upper() for w in list(word)]\n",
    "print(\"Output:\")\n",
    "print(output_list)\n",
    "\n",
    "#Section 2\n",
    "word_1=list('xyz')\n",
    "word_2=[x*n for x in word_1 for n in range(1,5) ]\n",
    "print(word_2)\n",
    "\n",
    "#Section 3\n",
    "word_3=[x*n for n in range(1,5) for x in word_1 ]\n",
    "print(word_3)\n",
    "\n",
    "#Section 4\n",
    "number=[2,3,4]\n",
    "number_1=[[x+n] for x in number for n in range(0,3)]\n",
    "print(number_1)\n",
    "\n",
    "#Section 5\n",
    "number_2=[2,3,4,5]\n",
    "number_3=[[x+n for n in range(0,4)] for x in number_2 ]\n",
    "print(number_3)\n",
    "\n",
    "#Section 6\n",
    "number_4=[1,2,3]\n",
    "number_5= [(b,a) for a in number_4 for b in number_4]\n",
    "print(number_5)"
   ]
  },
  {
   "cell_type": "code",
   "execution_count": null,
   "metadata": {},
   "outputs": [],
   "source": []
  }
 ],
 "metadata": {
  "kernelspec": {
   "display_name": "Python 3",
   "language": "python",
   "name": "python3"
  },
  "language_info": {
   "codemirror_mode": {
    "name": "ipython",
    "version": 3
   },
   "file_extension": ".py",
   "mimetype": "text/x-python",
   "name": "python",
   "nbconvert_exporter": "python",
   "pygments_lexer": "ipython3",
   "version": "3.6.9"
  }
 },
 "nbformat": 4,
 "nbformat_minor": 4
}
