{
 "cells": [
  {
   "cell_type": "code",
   "execution_count": 1,
   "metadata": {},
   "outputs": [
    {
     "data": {
      "text/plain": [
       "(180519, 53)"
      ]
     },
     "execution_count": 1,
     "metadata": {},
     "output_type": "execute_result"
    }
   ],
   "source": [
    "import pandas as pd\n",
    "import numpy as np\n",
    "import matplotlib.pyplot as plt\n",
    "import tensorflow as tf\n",
    "import datetime as dt\n",
    "import statsmodels as st\n",
    "import calendar,warnings,itertools,keras,shutil\n",
    "from datetime import datetime\n",
    "\n",
    "warnings.filterwarnings('ignore')\n",
    "\n",
    "#Read data set from environment\n",
    "dataset=pd.read_csv('DataCoSupplyChainDataset.csv',encoding='unicode_escape',header=0)\n",
    "#finding shape of dataset\n",
    "dataset.shape"
   ]
  },
  {
   "cell_type": "code",
   "execution_count": 2,
   "metadata": {},
   "outputs": [
    {
     "data": {
      "text/plain": [
       "Type                                  0\n",
       "Days for shipping (real)              0\n",
       "Days for shipment (scheduled)         0\n",
       "Benefit per order                     0\n",
       "Sales per customer                    0\n",
       "Delivery Status                       0\n",
       "Late_delivery_risk                    0\n",
       "Category Id                           0\n",
       "Category Name                         0\n",
       "Customer City                         0\n",
       "Customer Country                      0\n",
       "Customer Email                        0\n",
       "Customer Fname                        0\n",
       "Customer Id                           0\n",
       "Customer Lname                        8\n",
       "Customer Password                     0\n",
       "Customer Segment                      0\n",
       "Customer State                        0\n",
       "Customer Street                       0\n",
       "Customer Zipcode                      3\n",
       "Department Id                         0\n",
       "Department Name                       0\n",
       "Latitude                              0\n",
       "Longitude                             0\n",
       "Market                                0\n",
       "Order City                            0\n",
       "Order Country                         0\n",
       "Order Customer Id                     0\n",
       "order date (DateOrders)               0\n",
       "Order Id                              0\n",
       "Order Item Cardprod Id                0\n",
       "Order Item Discount                   0\n",
       "Order Item Discount Rate              0\n",
       "Order Item Id                         0\n",
       "Order Item Product Price              0\n",
       "Order Item Profit Ratio               0\n",
       "Order Item Quantity                   0\n",
       "Sales                                 0\n",
       "Order Item Total                      0\n",
       "Order Profit Per Order                0\n",
       "Order Region                          0\n",
       "Order State                           0\n",
       "Order Status                          0\n",
       "Order Zipcode                    155679\n",
       "Product Card Id                       0\n",
       "Product Category Id                   0\n",
       "Product Description              180519\n",
       "Product Image                         0\n",
       "Product Name                          0\n",
       "Product Price                         0\n",
       "Product Status                        0\n",
       "shipping date (DateOrders)            0\n",
       "Shipping Mode                         0\n",
       "dtype: int64"
      ]
     },
     "execution_count": 2,
     "metadata": {},
     "output_type": "execute_result"
    }
   ],
   "source": [
    "#Null values checking in dataset\n",
    "dataset.isnull().sum()"
   ]
  },
  {
   "cell_type": "code",
   "execution_count": 3,
   "metadata": {},
   "outputs": [],
   "source": [
    "#Creating a new dataset instead of drop elements due to in dataset 53 columns but we required only 19\n",
    "\n",
    "data=pd.DataFrame(dataset,columns=['Type','Benefit per order','Sales per customer','Late_delivery_risk',\n",
    "                                  'Category Name','Customer Segment','Department Name','Market',\n",
    "                                  'Order Country','Order Item Discount','Order Item Discount Rate',\n",
    "                                  'Order Item Product Price','Order Item Profit Ratio','Order Item Quantity','Order Item Total',\n",
    "                                  'Order Profit Per Order','Order Region','Order Status','Product Price'])"
   ]
  },
  {
   "cell_type": "code",
   "execution_count": 4,
   "metadata": {},
   "outputs": [
    {
     "data": {
      "text/plain": [
       "(180519, 19)"
      ]
     },
     "execution_count": 4,
     "metadata": {},
     "output_type": "execute_result"
    }
   ],
   "source": [
    "#shape of new dataset\n",
    "data.shape"
   ]
  },
  {
   "cell_type": "code",
   "execution_count": 5,
   "metadata": {},
   "outputs": [
    {
     "data": {
      "text/plain": [
       "Type                        0\n",
       "Benefit per order           0\n",
       "Sales per customer          0\n",
       "Late_delivery_risk          0\n",
       "Category Name               0\n",
       "Customer Segment            0\n",
       "Department Name             0\n",
       "Market                      0\n",
       "Order Country               0\n",
       "Order Item Discount         0\n",
       "Order Item Discount Rate    0\n",
       "Order Item Product Price    0\n",
       "Order Item Profit Ratio     0\n",
       "Order Item Quantity         0\n",
       "Order Item Total            0\n",
       "Order Profit Per Order      0\n",
       "Order Region                0\n",
       "Order Status                0\n",
       "Product Price               0\n",
       "dtype: int64"
      ]
     },
     "execution_count": 5,
     "metadata": {},
     "output_type": "execute_result"
    }
   ],
   "source": [
    "#Cross verify null values are in new dataset or not\n",
    "data.isnull().sum()"
   ]
  },
  {
   "cell_type": "code",
   "execution_count": 6,
   "metadata": {},
   "outputs": [],
   "source": [
    "#Finalize target variable from origin dataset\n",
    "\n",
    "train_y=pd.DataFrame(dataset,columns=['Sales'])"
   ]
  },
  {
   "cell_type": "code",
   "execution_count": 7,
   "metadata": {},
   "outputs": [
    {
     "data": {
      "text/html": [
       "<div>\n",
       "<style scoped>\n",
       "    .dataframe tbody tr th:only-of-type {\n",
       "        vertical-align: middle;\n",
       "    }\n",
       "\n",
       "    .dataframe tbody tr th {\n",
       "        vertical-align: top;\n",
       "    }\n",
       "\n",
       "    .dataframe thead th {\n",
       "        text-align: right;\n",
       "    }\n",
       "</style>\n",
       "<table border=\"1\" class=\"dataframe\">\n",
       "  <thead>\n",
       "    <tr style=\"text-align: right;\">\n",
       "      <th></th>\n",
       "      <th>Sales</th>\n",
       "    </tr>\n",
       "  </thead>\n",
       "  <tbody>\n",
       "    <tr>\n",
       "      <th>0</th>\n",
       "      <td>327.75</td>\n",
       "    </tr>\n",
       "    <tr>\n",
       "      <th>1</th>\n",
       "      <td>327.75</td>\n",
       "    </tr>\n",
       "    <tr>\n",
       "      <th>2</th>\n",
       "      <td>327.75</td>\n",
       "    </tr>\n",
       "    <tr>\n",
       "      <th>3</th>\n",
       "      <td>327.75</td>\n",
       "    </tr>\n",
       "    <tr>\n",
       "      <th>4</th>\n",
       "      <td>327.75</td>\n",
       "    </tr>\n",
       "  </tbody>\n",
       "</table>\n",
       "</div>"
      ],
      "text/plain": [
       "    Sales\n",
       "0  327.75\n",
       "1  327.75\n",
       "2  327.75\n",
       "3  327.75\n",
       "4  327.75"
      ]
     },
     "execution_count": 7,
     "metadata": {},
     "output_type": "execute_result"
    }
   ],
   "source": [
    "train_y.head()"
   ]
  },
  {
   "cell_type": "code",
   "execution_count": 8,
   "metadata": {},
   "outputs": [
    {
     "data": {
      "text/plain": [
       "Type                         object\n",
       "Benefit per order           float64\n",
       "Sales per customer          float64\n",
       "Late_delivery_risk            int64\n",
       "Category Name                object\n",
       "Customer Segment             object\n",
       "Department Name              object\n",
       "Market                       object\n",
       "Order Country                object\n",
       "Order Item Discount         float64\n",
       "Order Item Discount Rate    float64\n",
       "Order Item Product Price    float64\n",
       "Order Item Profit Ratio     float64\n",
       "Order Item Quantity           int64\n",
       "Order Item Total            float64\n",
       "Order Profit Per Order      float64\n",
       "Order Region                 object\n",
       "Order Status                 object\n",
       "Product Price               float64\n",
       "dtype: object"
      ]
     },
     "execution_count": 8,
     "metadata": {},
     "output_type": "execute_result"
    }
   ],
   "source": [
    "# Cross verify variable type in data\n",
    "data.dtypes"
   ]
  },
  {
   "cell_type": "code",
   "execution_count": 9,
   "metadata": {},
   "outputs": [],
   "source": [
    "df2=pd.DataFrame(data,columns=['Benefit per order','Sales per customer','Late_delivery_risk','Order Item Discount','Order Item Discount Rate',\n",
    "                              'Order Item Product Price','Order Item Profit Ratio','Order Item Quantity','Order Item Total','Order Profit Per Order',\n",
    "                              'Product Price'])"
   ]
  },
  {
   "cell_type": "code",
   "execution_count": 10,
   "metadata": {},
   "outputs": [
    {
     "data": {
      "text/plain": [
       "(180519, 11)"
      ]
     },
     "execution_count": 10,
     "metadata": {},
     "output_type": "execute_result"
    }
   ],
   "source": [
    "df2.shape"
   ]
  },
  {
   "cell_type": "code",
   "execution_count": 11,
   "metadata": {},
   "outputs": [],
   "source": [
    "#creating one more new dataframe for object type variable and we concat later train dataset\n",
    "\n",
    "df=pd.DataFrame(data,columns=['Type','Category Name','Customer Segment','Department Name','Market','Order Country','Order Region'\n",
    "                             ,'Order Status'])"
   ]
  },
  {
   "cell_type": "code",
   "execution_count": 12,
   "metadata": {},
   "outputs": [
    {
     "data": {
      "text/plain": [
       "Type                object\n",
       "Category Name       object\n",
       "Customer Segment    object\n",
       "Department Name     object\n",
       "Market              object\n",
       "Order Country       object\n",
       "Order Region        object\n",
       "Order Status        object\n",
       "dtype: object"
      ]
     },
     "execution_count": 12,
     "metadata": {},
     "output_type": "execute_result"
    }
   ],
   "source": [
    "#Checking we are created all object varaibles are not\n",
    "df.dtypes"
   ]
  },
  {
   "cell_type": "code",
   "execution_count": 13,
   "metadata": {},
   "outputs": [
    {
     "data": {
      "text/plain": [
       "(180519, 8)"
      ]
     },
     "execution_count": 13,
     "metadata": {},
     "output_type": "execute_result"
    }
   ],
   "source": [
    "df.shape"
   ]
  },
  {
   "cell_type": "code",
   "execution_count": 14,
   "metadata": {},
   "outputs": [],
   "source": [
    "#We are doing instaed one hot encode by column wise using pd.get_dummies\n",
    "df1=pd.get_dummies(df)"
   ]
  },
  {
   "cell_type": "code",
   "execution_count": 15,
   "metadata": {},
   "outputs": [
    {
     "data": {
      "text/html": [
       "<div>\n",
       "<style scoped>\n",
       "    .dataframe tbody tr th:only-of-type {\n",
       "        vertical-align: middle;\n",
       "    }\n",
       "\n",
       "    .dataframe tbody tr th {\n",
       "        vertical-align: top;\n",
       "    }\n",
       "\n",
       "    .dataframe thead th {\n",
       "        text-align: right;\n",
       "    }\n",
       "</style>\n",
       "<table border=\"1\" class=\"dataframe\">\n",
       "  <thead>\n",
       "    <tr style=\"text-align: right;\">\n",
       "      <th></th>\n",
       "      <th>Type_CASH</th>\n",
       "      <th>Type_DEBIT</th>\n",
       "      <th>Type_PAYMENT</th>\n",
       "      <th>Type_TRANSFER</th>\n",
       "      <th>Category Name_Accessories</th>\n",
       "      <th>Category Name_As Seen on  TV!</th>\n",
       "      <th>Category Name_Baby</th>\n",
       "      <th>Category Name_Baseball &amp; Softball</th>\n",
       "      <th>Category Name_Basketball</th>\n",
       "      <th>Category Name_Books</th>\n",
       "      <th>...</th>\n",
       "      <th>Order Region_Western Europe</th>\n",
       "      <th>Order Status_CANCELED</th>\n",
       "      <th>Order Status_CLOSED</th>\n",
       "      <th>Order Status_COMPLETE</th>\n",
       "      <th>Order Status_ON_HOLD</th>\n",
       "      <th>Order Status_PAYMENT_REVIEW</th>\n",
       "      <th>Order Status_PENDING</th>\n",
       "      <th>Order Status_PENDING_PAYMENT</th>\n",
       "      <th>Order Status_PROCESSING</th>\n",
       "      <th>Order Status_SUSPECTED_FRAUD</th>\n",
       "    </tr>\n",
       "  </thead>\n",
       "  <tbody>\n",
       "    <tr>\n",
       "      <th>0</th>\n",
       "      <td>0</td>\n",
       "      <td>1</td>\n",
       "      <td>0</td>\n",
       "      <td>0</td>\n",
       "      <td>0</td>\n",
       "      <td>0</td>\n",
       "      <td>0</td>\n",
       "      <td>0</td>\n",
       "      <td>0</td>\n",
       "      <td>0</td>\n",
       "      <td>...</td>\n",
       "      <td>0</td>\n",
       "      <td>0</td>\n",
       "      <td>0</td>\n",
       "      <td>1</td>\n",
       "      <td>0</td>\n",
       "      <td>0</td>\n",
       "      <td>0</td>\n",
       "      <td>0</td>\n",
       "      <td>0</td>\n",
       "      <td>0</td>\n",
       "    </tr>\n",
       "    <tr>\n",
       "      <th>1</th>\n",
       "      <td>0</td>\n",
       "      <td>0</td>\n",
       "      <td>0</td>\n",
       "      <td>1</td>\n",
       "      <td>0</td>\n",
       "      <td>0</td>\n",
       "      <td>0</td>\n",
       "      <td>0</td>\n",
       "      <td>0</td>\n",
       "      <td>0</td>\n",
       "      <td>...</td>\n",
       "      <td>0</td>\n",
       "      <td>0</td>\n",
       "      <td>0</td>\n",
       "      <td>0</td>\n",
       "      <td>0</td>\n",
       "      <td>0</td>\n",
       "      <td>1</td>\n",
       "      <td>0</td>\n",
       "      <td>0</td>\n",
       "      <td>0</td>\n",
       "    </tr>\n",
       "    <tr>\n",
       "      <th>2</th>\n",
       "      <td>1</td>\n",
       "      <td>0</td>\n",
       "      <td>0</td>\n",
       "      <td>0</td>\n",
       "      <td>0</td>\n",
       "      <td>0</td>\n",
       "      <td>0</td>\n",
       "      <td>0</td>\n",
       "      <td>0</td>\n",
       "      <td>0</td>\n",
       "      <td>...</td>\n",
       "      <td>0</td>\n",
       "      <td>0</td>\n",
       "      <td>1</td>\n",
       "      <td>0</td>\n",
       "      <td>0</td>\n",
       "      <td>0</td>\n",
       "      <td>0</td>\n",
       "      <td>0</td>\n",
       "      <td>0</td>\n",
       "      <td>0</td>\n",
       "    </tr>\n",
       "    <tr>\n",
       "      <th>3</th>\n",
       "      <td>0</td>\n",
       "      <td>1</td>\n",
       "      <td>0</td>\n",
       "      <td>0</td>\n",
       "      <td>0</td>\n",
       "      <td>0</td>\n",
       "      <td>0</td>\n",
       "      <td>0</td>\n",
       "      <td>0</td>\n",
       "      <td>0</td>\n",
       "      <td>...</td>\n",
       "      <td>0</td>\n",
       "      <td>0</td>\n",
       "      <td>0</td>\n",
       "      <td>1</td>\n",
       "      <td>0</td>\n",
       "      <td>0</td>\n",
       "      <td>0</td>\n",
       "      <td>0</td>\n",
       "      <td>0</td>\n",
       "      <td>0</td>\n",
       "    </tr>\n",
       "    <tr>\n",
       "      <th>4</th>\n",
       "      <td>0</td>\n",
       "      <td>0</td>\n",
       "      <td>1</td>\n",
       "      <td>0</td>\n",
       "      <td>0</td>\n",
       "      <td>0</td>\n",
       "      <td>0</td>\n",
       "      <td>0</td>\n",
       "      <td>0</td>\n",
       "      <td>0</td>\n",
       "      <td>...</td>\n",
       "      <td>0</td>\n",
       "      <td>0</td>\n",
       "      <td>0</td>\n",
       "      <td>0</td>\n",
       "      <td>0</td>\n",
       "      <td>0</td>\n",
       "      <td>0</td>\n",
       "      <td>1</td>\n",
       "      <td>0</td>\n",
       "      <td>0</td>\n",
       "    </tr>\n",
       "  </tbody>\n",
       "</table>\n",
       "<p>5 rows × 269 columns</p>\n",
       "</div>"
      ],
      "text/plain": [
       "   Type_CASH  Type_DEBIT  Type_PAYMENT  Type_TRANSFER  \\\n",
       "0          0           1             0              0   \n",
       "1          0           0             0              1   \n",
       "2          1           0             0              0   \n",
       "3          0           1             0              0   \n",
       "4          0           0             1              0   \n",
       "\n",
       "   Category Name_Accessories  Category Name_As Seen on  TV!  \\\n",
       "0                          0                              0   \n",
       "1                          0                              0   \n",
       "2                          0                              0   \n",
       "3                          0                              0   \n",
       "4                          0                              0   \n",
       "\n",
       "   Category Name_Baby   Category Name_Baseball & Softball  \\\n",
       "0                    0                                  0   \n",
       "1                    0                                  0   \n",
       "2                    0                                  0   \n",
       "3                    0                                  0   \n",
       "4                    0                                  0   \n",
       "\n",
       "   Category Name_Basketball  Category Name_Books   ...  \\\n",
       "0                         0                     0  ...   \n",
       "1                         0                     0  ...   \n",
       "2                         0                     0  ...   \n",
       "3                         0                     0  ...   \n",
       "4                         0                     0  ...   \n",
       "\n",
       "   Order Region_Western Europe  Order Status_CANCELED  Order Status_CLOSED  \\\n",
       "0                            0                      0                    0   \n",
       "1                            0                      0                    0   \n",
       "2                            0                      0                    1   \n",
       "3                            0                      0                    0   \n",
       "4                            0                      0                    0   \n",
       "\n",
       "   Order Status_COMPLETE  Order Status_ON_HOLD  Order Status_PAYMENT_REVIEW  \\\n",
       "0                      1                     0                            0   \n",
       "1                      0                     0                            0   \n",
       "2                      0                     0                            0   \n",
       "3                      1                     0                            0   \n",
       "4                      0                     0                            0   \n",
       "\n",
       "   Order Status_PENDING  Order Status_PENDING_PAYMENT  \\\n",
       "0                     0                             0   \n",
       "1                     1                             0   \n",
       "2                     0                             0   \n",
       "3                     0                             0   \n",
       "4                     0                             1   \n",
       "\n",
       "   Order Status_PROCESSING  Order Status_SUSPECTED_FRAUD  \n",
       "0                        0                             0  \n",
       "1                        0                             0  \n",
       "2                        0                             0  \n",
       "3                        0                             0  \n",
       "4                        0                             0  \n",
       "\n",
       "[5 rows x 269 columns]"
      ]
     },
     "execution_count": 15,
     "metadata": {},
     "output_type": "execute_result"
    }
   ],
   "source": [
    "df1.head()"
   ]
  },
  {
   "cell_type": "code",
   "execution_count": 16,
   "metadata": {},
   "outputs": [
    {
     "data": {
      "text/plain": [
       "(180519, 269)"
      ]
     },
     "execution_count": 16,
     "metadata": {},
     "output_type": "execute_result"
    }
   ],
   "source": [
    "df1.shape"
   ]
  },
  {
   "cell_type": "code",
   "execution_count": 17,
   "metadata": {},
   "outputs": [],
   "source": [
    "df1= df1.astype(np.float32)"
   ]
  },
  {
   "cell_type": "code",
   "execution_count": 18,
   "metadata": {},
   "outputs": [],
   "source": [
    "df2= df2.astype(np.float32)"
   ]
  },
  {
   "cell_type": "code",
   "execution_count": 19,
   "metadata": {},
   "outputs": [],
   "source": [
    "merge=[df1,df2]\n",
    "train_x=pd.concat(merge,axis=1)"
   ]
  },
  {
   "cell_type": "code",
   "execution_count": 20,
   "metadata": {},
   "outputs": [
    {
     "data": {
      "text/plain": [
       "(180519, 280)"
      ]
     },
     "execution_count": 20,
     "metadata": {},
     "output_type": "execute_result"
    }
   ],
   "source": [
    "train_x.shape"
   ]
  },
  {
   "cell_type": "code",
   "execution_count": 21,
   "metadata": {},
   "outputs": [],
   "source": [
    "#Till now we completed EDA process next process is model building\n",
    "\n",
    "from keras.models import Sequential\n",
    "from keras.layers import Dense\n",
    "from keras.layers import LeakyReLU "
   ]
  },
  {
   "cell_type": "code",
   "execution_count": 22,
   "metadata": {},
   "outputs": [],
   "source": [
    "model=Sequential()"
   ]
  },
  {
   "cell_type": "code",
   "execution_count": 23,
   "metadata": {},
   "outputs": [],
   "source": [
    "n_cols=train_x.shape[1]\n",
    "leaky_relu_alpha = 0.1"
   ]
  },
  {
   "cell_type": "code",
   "execution_count": 24,
   "metadata": {},
   "outputs": [],
   "source": [
    "#model.add(LeakyReLU(alpha=leaky_relu_alpha))\n",
    "model.add(Dense(100,activation='relu',input_shape=(n_cols,)))\n",
    "model.add(Dense(100,activation='relu'))\n",
    "model.add(Dense(1))"
   ]
  },
  {
   "cell_type": "code",
   "execution_count": 25,
   "metadata": {},
   "outputs": [],
   "source": [
    "model.compile(loss=keras.losses.categorical_crossentropy,\n",
    "              optimizer=keras.optimizers.Adam(),\n",
    "              metrics=['accuracy'])"
   ]
  },
  {
   "cell_type": "code",
   "execution_count": 26,
   "metadata": {},
   "outputs": [
    {
     "name": "stdout",
     "output_type": "stream",
     "text": [
      "Epoch 1/10\n",
      "4513/4513 [==============================] - 10s 2ms/step - loss: 2.3457e-05 - accuracy: 0.0000e+00 - val_loss: 2.7631e-05 - val_accuracy: 0.0000e+00\n",
      "Epoch 2/10\n",
      "4513/4513 [==============================] - 10s 2ms/step - loss: 2.3457e-05 - accuracy: 0.0000e+00 - val_loss: 2.7631e-05 - val_accuracy: 0.0000e+00\n",
      "Epoch 3/10\n",
      "4513/4513 [==============================] - 10s 2ms/step - loss: 2.3457e-05 - accuracy: 0.0000e+00 - val_loss: 2.7631e-05 - val_accuracy: 0.0000e+00\n",
      "Epoch 4/10\n",
      "4513/4513 [==============================] - 10s 2ms/step - loss: 2.3457e-05 - accuracy: 0.0000e+00 - val_loss: 2.7631e-05 - val_accuracy: 0.0000e+00\n",
      "Epoch 5/10\n",
      "4513/4513 [==============================] - 10s 2ms/step - loss: 2.3457e-05 - accuracy: 0.0000e+00 - val_loss: 2.7631e-05 - val_accuracy: 0.0000e+00\n",
      "Epoch 6/10\n",
      "4513/4513 [==============================] - 10s 2ms/step - loss: 2.3457e-05 - accuracy: 0.0000e+00 - val_loss: 2.7631e-05 - val_accuracy: 0.0000e+00\n",
      "Epoch 7/10\n",
      "4513/4513 [==============================] - 12s 3ms/step - loss: 2.3457e-05 - accuracy: 0.0000e+00 - val_loss: 2.7631e-05 - val_accuracy: 0.0000e+00\n",
      "Epoch 8/10\n",
      "4513/4513 [==============================] - 11s 2ms/step - loss: 2.3457e-05 - accuracy: 0.0000e+00 - val_loss: 2.7631e-05 - val_accuracy: 0.0000e+00\n",
      "Epoch 9/10\n",
      "4513/4513 [==============================] - 10s 2ms/step - loss: 2.3457e-05 - accuracy: 0.0000e+00 - val_loss: 2.7631e-05 - val_accuracy: 0.0000e+00\n",
      "Epoch 10/10\n",
      "4513/4513 [==============================] - 10s 2ms/step - loss: 2.3457e-05 - accuracy: 0.0000e+00 - val_loss: 2.7631e-05 - val_accuracy: 0.0000e+00\n"
     ]
    },
    {
     "data": {
      "text/plain": [
       "<tensorflow.python.keras.callbacks.History at 0x2ab02b00460>"
      ]
     },
     "execution_count": 26,
     "metadata": {},
     "output_type": "execute_result"
    }
   ],
   "source": [
    "model.fit(train_x,train_y,validation_split=0.2,epochs=10)"
   ]
  },
  {
   "cell_type": "code",
   "execution_count": null,
   "metadata": {},
   "outputs": [],
   "source": []
  }
 ],
 "metadata": {
  "kernelspec": {
   "display_name": "Python 3",
   "language": "python",
   "name": "python3"
  },
  "language_info": {
   "codemirror_mode": {
    "name": "ipython",
    "version": 3
   },
   "file_extension": ".py",
   "mimetype": "text/x-python",
   "name": "python",
   "nbconvert_exporter": "python",
   "pygments_lexer": "ipython3",
   "version": "3.8.3"
  }
 },
 "nbformat": 4,
 "nbformat_minor": 4
}
