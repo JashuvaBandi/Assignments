{
 "cells": [
  {
   "cell_type": "markdown",
   "metadata": {},
   "source": [
    "# Calculate the mean, median, mode and standard deviation for the problem      statements 1& 2."
   ]
  },
  {
   "cell_type": "markdown",
   "metadata": {},
   "source": [
    "# Problem Statement 1:                                      The marks awarded for an assignment set for a Year 8 class of 20 students were as                follows:                                                               6 7 5 7 7 8 7 6 9 7 4 10 6 8 8 9 5 6 4 8"
   ]
  },
  {
   "cell_type": "code",
   "execution_count": 1,
   "metadata": {},
   "outputs": [],
   "source": [
    "import numpy as np\n",
    "import pandas as pd\n",
    "import matplotlib.pyplot as plt\n",
    "import scipy.stats as st\n",
    "from scipy.integrate import quad\n",
    "import seaborn as sns"
   ]
  },
  {
   "cell_type": "code",
   "execution_count": 2,
   "metadata": {},
   "outputs": [
    {
     "name": "stdout",
     "output_type": "stream",
     "text": [
      "The mean of marks of students is :6.85\n",
      "The median of marks of students is :7.0\n",
      "The std_dev of marks of students is :1.5898113095584647\n"
     ]
    }
   ],
   "source": [
    "marks_students=np.array([6,7,5,7,7,8,7,6,9,7,4,10,6,8,8,9,5,6,4,8])\n",
    "mean=np.mean(marks_students)\n",
    "median=np.median(marks_students)\n",
    "std_dev=np.std(marks_students)\n",
    "print(\"The mean of marks of students is :{}\".format(mean))\n",
    "print(\"The median of marks of students is :{}\".format(median))\n",
    "print(\"The std_dev of marks of students is :{}\".format(std_dev))"
   ]
  },
  {
   "cell_type": "markdown",
   "metadata": {},
   "source": [
    "# Problem Statement 2:                                The number of calls from motorists per day for roadside service was recorded for a         particular month:                                          28, 122, 217, 130, 120, 86, 80, 90, 140, 120, 70, 40, 145, 113, 90, 68, 174, 194, 170, 100, 75, 104, 97, 75, 123, 100, 75, 104, 97, 75, 123, 100, 89, 120, 109"
   ]
  },
  {
   "cell_type": "code",
   "execution_count": 3,
   "metadata": {},
   "outputs": [
    {
     "name": "stdout",
     "output_type": "stream",
     "text": [
      "The mean of calls is :107.51428571428572\n",
      "The median of calls is :7.0\n",
      "The standard deviation of calls is :38.77287080168403\n"
     ]
    }
   ],
   "source": [
    "calls=np.array([28, 122, 217, 130, 120, 86, 80, 90, 140, 120, 70, 40, 145, 113, 90, 68, 174, 194, 170, 100, 75, 104, 97, 75, 123, 100, 75, 104, 97, 75, 123, 100, 89, 120, 109] )\n",
    "mean=np.mean(calls)\n",
    "meadian=np.median(calls)\n",
    "std_dev=np.std(calls)\n",
    "print(\"The mean of calls is :{}\".format(mean))\n",
    "print(\"The median of calls is :{}\".format(median))\n",
    "print(\"The standard deviation of calls is :{}\".format(std_dev))"
   ]
  },
  {
   "cell_type": "markdown",
   "metadata": {},
   "source": [
    "# Problem Statement 3:                              The number of times I go to the gym in weekdays, are given below along with its associated probability: x = 0, 1, 2, 3, 4, 5     f(x) = 0.09, 0.15, 0.40, 0.25, 0.10, 0.01  Calculate the mean no. of workouts in a week. Also evaluate the variance involved in it."
   ]
  },
  {
   "cell_type": "code",
   "execution_count": 4,
   "metadata": {},
   "outputs": [
    {
     "name": "stdout",
     "output_type": "stream",
     "text": [
      "The mean no of workouts in a week is:2.15\n",
      "The varience  of workouts in a week is:1.2275\n"
     ]
    }
   ],
   "source": [
    "x=[0, 1, 2, 3, 4, 5]\n",
    "f=[0.09, 0.15, 0.40, 0.25, 0.10, 0.01]\n",
    "avarage=0\n",
    "varience=0\n",
    "for i,j in zip(x,f):\n",
    "    avarage=avarage+i*j\n",
    "for i,j in zip(x,f):\n",
    "    varience=varience+(((i-avarage)**2)*j)\n",
    "\n",
    "print(\"The mean no of workouts in a week is:{}\".format(avarage))\n",
    "print(\"The varience  of workouts in a week is:{}\".format(varience))"
   ]
  },
  {
   "cell_type": "markdown",
   "metadata": {},
   "source": [
    "# Problem Statement 4: Let the continuous random variable D denote the diameter of the hole drilled in an aluminum sheet. The target diameter to be achieved is 12.5mm. Random disturbances in the process often result in inaccuracy. Historical data shows that the distribution of D can be modelled by the PDF (𝑑) = 20𝑒−20(𝑑−12.5), 𝑑 ≥ 12.5. If a part with diameter > 12.6 mm needs to be scrapped, what is the proportion of those parts? What is the CDF when the diameter is of 11 mm? What is your conclusion regarding the proportion of scraps?"
   ]
  },
  {
   "cell_type": "code",
   "execution_count": 5,
   "metadata": {},
   "outputs": [],
   "source": [
    "def cdf_func(d):\n",
    "    return (20*np.exp(-20*(d-12.5)))\n",
    "result=quad(cdf_func,a=12.6,b=np.inf)"
   ]
  },
  {
   "cell_type": "code",
   "execution_count": 6,
   "metadata": {},
   "outputs": [
    {
     "name": "stdout",
     "output_type": "stream",
     "text": [
      "The proportion of the parts with diameter greater than 12.6mm is: 0.13533528323661398\n"
     ]
    }
   ],
   "source": [
    "print(\"The proportion of the parts with diameter greater than 12.6mm is:\",result[0])"
   ]
  },
  {
   "cell_type": "code",
   "execution_count": 7,
   "metadata": {},
   "outputs": [
    {
     "name": "stdout",
     "output_type": "stream",
     "text": [
      "The cdf when the diameter is of 11mm is zero\n",
      "The proportion of the parts between 12.5 and 12.6 is: 0.8646647167633718\n"
     ]
    }
   ],
   "source": [
    "print(\"The cdf when the diameter is of 11mm is zero\")\n",
    "result_1=quad(cdf_func,a=12.5,b=12.6)\n",
    "print(\"The proportion of the parts between 12.5 and 12.6 is:\",result_1[0])\n"
   ]
  },
  {
   "cell_type": "markdown",
   "metadata": {},
   "source": [
    "# Problem Statement 5: A company manufactures LED bulbs with a faulty rate of 30%. If I randomly select 6 chosen LEDs, what is the probability of having 2 faulty LEDs in my sample? Calculate the average value of this process. Also evaluate the standard deviation associated with it."
   ]
  },
  {
   "cell_type": "code",
   "execution_count": 8,
   "metadata": {},
   "outputs": [
    {
     "name": "stdout",
     "output_type": "stream",
     "text": [
      "The probability of finding two faulty led's is 0.325\n",
      "The mean of the process is 1.82\n",
      "The standard deviation of the process is 1.1311940593903416\n"
     ]
    }
   ],
   "source": [
    "failure_rate=0.3\n",
    "n=6\n",
    "r=2\n",
    "sample=1000\n",
    "binominal=np.random.binomial(n,failure_rate,sample)\n",
    "prob_of_2_faulty=np.sum(binominal==2)/1000\n",
    "mean=binominal.mean()\n",
    "std_dev=binominal.std()\n",
    "print(\"The probability of finding two faulty led's is {}\".format(prob_of_2_faulty))\n",
    "print(\"The mean of the process is {}\".format(mean))\n",
    "print('The standard deviation of the process is {}'.format(std_dev))"
   ]
  },
  {
   "cell_type": "markdown",
   "metadata": {},
   "source": [
    "# Problem Statement 6.Gaurav and Barakha are both preparing for entrance exams. Gaurav attempts to solve 8 questions per day with a correction rate of 75%, while Barakha averages around 12 questions per day with a correction rate of 45%. What is the probability that each of them will solve 5 questions correctly? What happens in cases of 4 and 6 correct solutions? What do you infer from it? What are the two main governing factors affecting their ability to solve questions correctly? Give a pictorial representation of the same to validate your answer."
   ]
  },
  {
   "cell_type": "code",
   "execution_count": 9,
   "metadata": {},
   "outputs": [
    {
     "name": "stdout",
     "output_type": "stream",
     "text": [
      "probability of gaurav solving 5 questions correctly is: 0.301\n",
      "probability of barkha solving 5 questions correctly is: 0.2046\n",
      "Probability of gaurav solving 4 questions correctly is: 0.2188\n",
      "Probability of barkha solving 4 questions correctly is: 0.2262\n",
      "Probability of gaurav solving 6 questions correctly is: 0.265\n",
      "Probability of barkha solving 6 questions correctly is: 0.1428\n"
     ]
    }
   ],
   "source": [
    "Gaurav_prob=np.random.binomial(8,0.75,5000)\n",
    "Barakha_prob=np.random.binomial(12,0.45,5000)\n",
    "gaurav_sol=[]\n",
    "barakha_sol=[]\n",
    "for i in range(1,10):\n",
    "    gaurav_sol.append(np.sum(Gaurav_prob==i)/5000)\n",
    "    barakha_sol.append(np.sum(Barakha_prob==i)/5000)\n",
    "    \n",
    "print(\"probability of gaurav solving 5 questions correctly is:\",gaurav_sol[5])\n",
    "print(\"probability of barkha solving 5 questions correctly is:\",barakha_sol[5])\n",
    "\n",
    "print(\"Probability of gaurav solving 4 questions correctly is:\",gaurav_sol[4])\n",
    "print(\"Probability of barkha solving 4 questions correctly is:\",barakha_sol[4])\n",
    "print(\"Probability of gaurav solving 6 questions correctly is:\",gaurav_sol[6])\n",
    "print(\"Probability of barkha solving 6 questions correctly is:\",barakha_sol[6])"
   ]
  },
  {
   "cell_type": "code",
   "execution_count": 10,
   "metadata": {},
   "outputs": [
    {
     "data": {
      "text/plain": [
       "Text(0.5, 1.0, 'Probability distibution of Gaurav and Barakha')"
      ]
     },
     "execution_count": 10,
     "metadata": {},
     "output_type": "execute_result"
    },
    {
     "data": {
      "image/png": "[encoded data removed]",
      "text/plain": [
       "<Figure size 432x288 with 1 Axes>"
      ]
     },
     "metadata": {
      "needs_background": "light"
     },
     "output_type": "display_data"
    }
   ],
   "source": [
    "x=[i for i in range(9)]\n",
    "plt.plot(x,gaurav_sol,label=\"Gaurav\")\n",
    "plt.plot(x,barakha_sol,label=\"Barakha\")\n",
    "plt.xlabel(\" Number of correct answers\")\n",
    "plt.ylabel(\"p(x)\")\n",
    "plt.title(\"Probability distibution of Gaurav and Barakha\")"
   ]
  },
  {
   "cell_type": "markdown",
   "metadata": {},
   "source": [
    "# 7.Customers arrive at a rate of 72 per hour to my shop. What is the probability of 𝑘 customers arriving in 4 minutes? a) 5 customers, b) not more than 3 customers, c) more than 3 customers. Give a pictorial representation of the same to validate your answer."
   ]
  },
  {
   "cell_type": "code",
   "execution_count": 11,
   "metadata": {},
   "outputs": [
    {
     "name": "stdout",
     "output_type": "stream",
     "text": [
      "The Probability of 5 customers arriving is:0.188\n",
      "The Probability of 3 customers arriving less than 3 is:0.3\n",
      "The Probability of 3 customers arriving greater than 3 is:0.872\n"
     ]
    }
   ],
   "source": [
    "arive_rate4_mins=(72/60)*4\n",
    "distibution=np.random.poisson(arive_rate4_mins,1000)\n",
    "prob_5=np.sum(distibution==5)/1000\n",
    "prob_lessthan_3=np.sum(distibution<=3)/1000\n",
    "prob_more_3=np.sum(distibution>=3)/1000\n",
    "\n",
    "print(\"The Probability of 5 customers arriving is:{}\".format(prob_5))\n",
    "print(\"The Probability of 3 customers arriving less than 3 is:{}\".format(prob_lessthan_3))\n",
    "print(\"The Probability of 3 customers arriving greater than 3 is:{}\".format(prob_more_3))"
   ]
  },
  {
   "cell_type": "code",
   "execution_count": 12,
   "metadata": {},
   "outputs": [
    {
     "data": {
      "text/plain": [
       "<matplotlib.axes._subplots.AxesSubplot at 0x164ed6d3d30>"
      ]
     },
     "execution_count": 12,
     "metadata": {},
     "output_type": "execute_result"
    },
    {
     "data": {
      "image/png": "[encoded data removed]",
      "text/plain": [
       "<Figure size 432x288 with 1 Axes>"
      ]
     },
     "metadata": {
      "needs_background": "light"
     },
     "output_type": "display_data"
    }
   ],
   "source": [
    "sns.distplot(distibution,hist=False,color='blue')"
   ]
  },
  {
   "cell_type": "markdown",
   "metadata": {},
   "source": [
    "# Problem Statement 8: I work as a data analyst in Aeon Learning Pvt. Ltd. After analyzing data, I make reports, where I have the efficiency of entering 77 words per minute with 6 errors per hour. What is the probability that I will commit 2 errors in a 455-word financial report? What happens when the no. of words increases/decreases (in case of 1000 words, 255 words)? How is the 𝜆 affected? How does it influence the PMF? Give a pictorial representation of the same to validate your answer"
   ]
  },
  {
   "cell_type": "code",
   "execution_count": 20,
   "metadata": {},
   "outputs": [
    {
     "data": {
      "text/plain": [
       "Text(0, 0.5, 'probability of two errors')"
      ]
     },
     "execution_count": 20,
     "metadata": {},
     "output_type": "execute_result"
    },
    {
     "data": {
      "image/png": "[encoded data removed]",
      "text/plain": [
       "<Figure size 432x288 with 1 Axes>"
      ]
     },
     "metadata": {
      "needs_background": "light"
     },
     "output_type": "display_data"
    }
   ],
   "source": [
    "numbers_error_per_minute=6/60\n",
    "word_list=[100,455,1000,1500]\n",
    "prob=[]\n",
    "for i in word_list:\n",
    "    sum_error=(i/77)*numbers_error_per_minute\n",
    "    distibution=np.random.poisson(sum_error,1000)\n",
    "    prob.append(np.sum(distibution==2)/1000)\n",
    "plt.plot(word_list,prob)\n",
    "plt.xlabel(\"number of words\")\n",
    "plt.ylabel(\"probability of two errors\")"
   ]
  },
  {
   "cell_type": "markdown",
   "metadata": {},
   "source": [
    "# Problem Statement 10: Please compute the following: a) P(Z > 1.26), . P(Z < −0.86), P(Z > −1.37), P(−1.25 < Z < 0.37), . P(Z ≤ −4.6) b) Find the value 𝑧 such that 𝑃(𝑍 > 𝑧) = 0.05 c) Find the value of 𝑧 such that 𝑃(−𝑧 < 𝑍 < 𝑧) = 0.99"
   ]
  },
  {
   "cell_type": "code",
   "execution_count": 22,
   "metadata": {},
   "outputs": [
    {
     "name": "stdout",
     "output_type": "stream",
     "text": [
      "P(Z > 1.26) :  0.10383468112130045\n",
      "P(Z < −0.86): 0.1948945212518084\n",
      "P(Z > −1.37): 0.914656549178033\n",
      "P(−1.25 < Z < 0.37): 0.5386589811336914\n",
      "P(Z ≤ −4.6): 2.1124547024964357e-06\n",
      "value 𝑧 such that 𝑃(𝑍 > 𝑧) = 0.05: 1.6448536269514729\n",
      "value of 𝑧 such that 𝑃(−𝑧 < 𝑍 < 𝑧): 2.3263478740408408\n"
     ]
    }
   ],
   "source": [
    "print(\"P(Z > 1.26) : \",1-(st.norm.cdf(1.26)))\n",
    "print(\"P(Z < −0.86):\",st.norm.cdf(-0.86))\n",
    "print(\"P(Z > −1.37):\",1-(st.norm.cdf(-1.37)))\n",
    "print(\"P(−1.25 < Z < 0.37):\",(st.norm.cdf(0.37)-st.norm.cdf(-1.25)))\n",
    "print(\"P(Z ≤ −4.6):\",1-(st.norm.cdf(4.6)))\n",
    "print(\"value 𝑧 such that 𝑃(𝑍 > 𝑧) = 0.05:\",np.absolute(st.norm.ppf(0.05)))\n",
    "print(\"value of 𝑧 such that 𝑃(−𝑧 < 𝑍 < 𝑧):\",st.norm.ppf(0.99))"
   ]
  },
  {
   "cell_type": "markdown",
   "metadata": {},
   "source": [
    "# Problem Statement 11: The current flow in a copper wire follow a normal distribution with a mean of 10 𝑚A and a variance of 4 (𝑚𝐴)2. What is the probability that a current measurement will exceed 13 𝑚𝐴? What is the probability that a current measurement is between 9 and 11mA? Determine the current measurement which has a probability of 0.98."
   ]
  },
  {
   "cell_type": "code",
   "execution_count": 23,
   "metadata": {},
   "outputs": [
    {
     "name": "stdout",
     "output_type": "stream",
     "text": [
      "probability that a current measurement will exceed 13 𝑚𝐴: 0.06680720126885809\n",
      "probability that a current measurement is between 9 and 11mA: 0.38292492254802624\n",
      "current measurement which has a probability of 0.98: 14.107497821263646\n"
     ]
    }
   ],
   "source": [
    "mean=10\n",
    "std=2\n",
    "print(\"probability that a current measurement will exceed 13 𝑚𝐴:\",1-(st.norm.cdf(x=13,loc=mean,scale=std)))\n",
    "print(\"probability that a current measurement is between 9 and 11mA:\",(st.norm.cdf(x=11,loc=mean,scale=std)-st.norm.cdf(x=9,loc=mean,scale=std)))\n",
    "print(\"current measurement which has a probability of 0.98:\",st.norm.ppf(q=0.98,loc=mean,scale=std))"
   ]
  },
  {
   "cell_type": "markdown",
   "metadata": {},
   "source": [
    "# Problem Statement 12: The shaft in a piston has its diameter normally distributed with a mean of 0.2508 inch and a standard deviation of 0.0005 inch. The specifications of the shaft are 0.2500 ∓ 0.0015 inch. What proportion of shafts are in sync with the specifications? If the process is centered so that the mean is equal to the target value of 0.2500, what proportion of shafts conform to the new specifications? What is your conclusion from this experiment?"
   ]
  },
  {
   "cell_type": "code",
   "execution_count": 24,
   "metadata": {},
   "outputs": [
    {
     "name": "stdout",
     "output_type": "stream",
     "text": [
      "Proportion of shafts in sync with the specifications are: 0.91924122831152\n",
      "Proportion of shafts in sync with the specifications after the process is centered is: 0.9973002039367398\n"
     ]
    }
   ],
   "source": [
    "mean=0.2508\n",
    "std=0.0005\n",
    "l1=0.2500-0.0015\n",
    "l2=0.2500+0.0015\n",
    "print(\"Proportion of shafts in sync with the specifications are:\",(st.norm.cdf(x=l2,loc=mean,scale=std)-st.norm.cdf(x=l1,loc=mean,scale=std)))\n",
    "new_mean=0.2500\n",
    "print(\"Proportion of shafts in sync with the specifications after the process is centered is:\",(st.norm.cdf(x=l2,loc=new_mean,scale=std)-st.norm.cdf(x=l1,loc=new_mean,scale=std)))"
   ]
  },
  {
   "cell_type": "markdown",
   "metadata": {},
   "source": [
    "Conclusion: If the mean of the shafts is centered to the mean of the specifications of the shaft the proportion of shafts which are in sync with the specification increases."
   ]
  },
  {
   "cell_type": "code",
   "execution_count": null,
   "metadata": {},
   "outputs": [],
   "source": []
  }
 ],
 "metadata": {
  "kernelspec": {
   "display_name": "Python 3",
   "language": "python",
   "name": "python3"
  },
  "language_info": {
   "codemirror_mode": {
    "name": "ipython",
    "version": 3
   },
   "file_extension": ".py",
   "mimetype": "text/x-python",
   "name": "python",
   "nbconvert_exporter": "python",
   "pygments_lexer": "ipython3",
   "version": "3.8.3"
  }
 },
 "nbformat": 4,
 "nbformat_minor": 4
}
