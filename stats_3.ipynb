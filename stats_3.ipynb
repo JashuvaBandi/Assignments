{
 "cells": [
  {
   "cell_type": "code",
   "execution_count": 1,
   "metadata": {},
   "outputs": [],
   "source": [
    "import numpy as np\n",
    "import scipy.stats as st\n"
   ]
  },
  {
   "cell_type": "code",
   "execution_count": 2,
   "metadata": {},
   "outputs": [],
   "source": [
    "def z_stat(samp_mean,pop_mean,se):\n",
    "    return (samp_mean-pop_mean)/se\n",
    "def t_stat(samp_mean,pop_mean,se):\n",
    "    return (samp_mean-pop_mean)/se\n",
    "def sample_error(std,n):\n",
    "    return std/(np.sqrt(n))\n",
    "def z_test_pop_propotions(p1,p2,n1,n2):\n",
    "    return np.sqrt(((p1*(1-p1)/n1)+((p2*(1-p2)/n2))))"
   ]
  },
  {
   "cell_type": "markdown",
   "metadata": {},
   "source": [
    "# Problem Statement 1: Blood glucose levels for obese patients have a mean of 100 with a standard deviation of 15. A researcher thinks that a diet high in raw cornstarch will have a positive effect on blood glucose levels. A sample of 36 patients who have tried the raw cornstarch diet have a mean glucose level of 108. Test the hypothesis that the raw cornstarch had an effect or not.Null Hypothesis H0 : mean=100(The raw cornstarch has no effect) Alternative Hypothesis H1 : mean!=100(The raw corn starch had an effect)(Two-tailed test"
   ]
  },
  {
   "cell_type": "code",
   "execution_count": 12,
   "metadata": {},
   "outputs": [
    {
     "name": "stdout",
     "output_type": "stream",
     "text": [
      "Null Hypothesis is rejected(The raw corn starch had an effect)\n"
     ]
    }
   ],
   "source": [
    "from statsmodels.stats.proportion import proportions_ztest\n",
    "alpha=0.05\n",
    "samp_mean=108\n",
    "pop_mean=100\n",
    "se=sample_error(std=15,n=36)\n",
    "z=z_stat(samp_mean,pop_mean,se=sample_error(std=15,n=36))\n",
    "p=2*(1-st.norm.cdf(np.absolute(z)))\n",
    "if p<alpha:\n",
    "    print(\"Null Hypothesis is rejected(The raw corn starch had an effect)\")\n",
    "else:\n",
    "    print(\"Null Hypothesis is accepted(The raw cornstarch has no effect)\")"
   ]
  },
  {
   "cell_type": "markdown",
   "metadata": {},
   "source": [
    "# Problem Statement 2: In one state, 52% of the voters are Republicans, and 48% are Democrats. In a second state, 47% of the voters are Republicans, and 53% are Democrats. Suppose a simple random sample of 100 voters are surveyed from each state. What is the probability that the survey will show a greater percentage of Republican voters in the second state than in the first state?Given data: Population 1: p1(Republicans)=0.52 p1(Democrats)=0.48 n1=100 Population 2: p2(Republicans)=0.47 p2(Democrats)=0.53 n2=100Null Hypothesis H0 :mean1(Republican)=mean2(Republicans) Alternative Hypothesis H1 : mean2(Republicans)>mean1(Republicans)(One-Tailed test)(Right-Tailed) (OR) mean1(Republicans)"
   ]
  },
  {
   "cell_type": "code",
   "execution_count": 8,
   "metadata": {},
   "outputs": [
    {
     "name": "stdout",
     "output_type": "stream",
     "text": [
      "Null hypothesis is Accepted\n"
     ]
    }
   ],
   "source": [
    "def z_stat(p1,p2,se):\n",
    "    return (p1-p2)/se\n",
    "def sample_error_trwo_mean(s1,n1,s2,n2):\n",
    "    return (np.sqrt((s1**2/n1)+(s2**2/n2)))\n",
    "alpha=0.05\n",
    "z=z_stat(p1=0.52,p2=0.53,se=sample_error_trwo_mean(s1=0.48,s2=0.47,n1=100,n2=100))\n",
    "p=1-st.norm.cdf(np.absolute(z))\n",
    "if p<alpha:\n",
    "    print(\"Null hypothesis rejected\")\n",
    "else:\n",
    "    print(\"Null hypothesis is Accepted\")"
   ]
  },
  {
   "cell_type": "code",
   "execution_count": 11,
   "metadata": {},
   "outputs": [
    {
     "name": "stdout",
     "output_type": "stream",
     "text": [
      "0.4408334969150014  is the probability that the survey will show a greater percentage of Republican voters in the second state than in the first state\n"
     ]
    }
   ],
   "source": [
    "print(p,\" is the probability that the survey will show a greater percentage of Republican voters in the second state than in the first state\")"
   ]
  },
  {
   "cell_type": "markdown",
   "metadata": {},
   "source": [
    "# Problem Statement 3:You take the SAT and score 1100. The mean score for the SAT is 1026 and the standard deviation is 209. How well did you score on the test compared to the average test taker?"
   ]
  },
  {
   "cell_type": "code",
   "execution_count": 16,
   "metadata": {},
   "outputs": [],
   "source": [
    "import numpy as np\n",
    "import scipy.stats as st\n",
    "x=1100\n",
    "𝜇=1026\n",
    "std=206\n",
    "def z_test(x, 𝜇,std):\n",
    "    return (x-𝜇)/std\n"
   ]
  },
  {
   "cell_type": "code",
   "execution_count": 18,
   "metadata": {},
   "outputs": [
    {
     "data": {
      "text/plain": [
       "0.3592233009708738"
      ]
     },
     "execution_count": 18,
     "metadata": {},
     "output_type": "execute_result"
    }
   ],
   "source": [
    "z_test(x, 𝜇,std)"
   ]
  },
  {
   "cell_type": "code",
   "execution_count": null,
   "metadata": {},
   "outputs": [],
   "source": []
  }
 ],
 "metadata": {
  "kernelspec": {
   "display_name": "Python 3",
   "language": "python",
   "name": "python3"
  },
  "language_info": {
   "codemirror_mode": {
    "name": "ipython",
    "version": 3
   },
   "file_extension": ".py",
   "mimetype": "text/x-python",
   "name": "python",
   "nbconvert_exporter": "python",
   "pygments_lexer": "ipython3",
   "version": "3.8.3"
  }
 },
 "nbformat": 4,
 "nbformat_minor": 4
}
